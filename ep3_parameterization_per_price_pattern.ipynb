{
 "cells": [
  {
   "cell_type": "markdown",
   "metadata": {},
   "source": [
    "# ep3 - parameterization per price pattern"
   ]
  },
  {
   "cell_type": "markdown",
   "metadata": {},
   "source": [
    "The following code block loads the pre-defined functions and variables developed in ep1."
   ]
  },
  {
   "cell_type": "code",
   "execution_count": 1,
   "metadata": {},
   "outputs": [],
   "source": [
    "import pandas as pd\n",
    "import datetime\n",
    "import numpy as np\n",
    "import time\n",
    "import matplotlib.pyplot as plt\n",
    "from my_stock import read_stock, buy_sig, sell_sig, proc_stock, paper_trade"
   ]
  },
  {
   "cell_type": "markdown",
   "metadata": {},
   "source": [
    "One can use the code below to observe the variation in performance of a strategy as the parameters vary.  Note that the `paper_trade` function imported integrates a stop-loss feature and the %loss acceptance is defined by variable `sg`.  In the following code block, we again package functions such as `read_stock`,`proc_stock` and `paper_trade` into one function, i.e., `trade_single`.  We will try to use grid search find the maximal value of `trade_single` by varying parameters `win_dip` ($d$) and `win_ral` ($r$)."
   ]
  },
  {
   "cell_type": "code",
   "execution_count": 2,
   "metadata": {
    "scrolled": false
   },
   "outputs": [
    {
     "name": "stdout",
     "output_type": "stream",
     "text": [
      "executed buy at 19.88 on 2019-10-31\n",
      "executed sell at 20.66 on 2019-11-01\n",
      "executed buy at 21.03 on 2019-12-30\n",
      "executed sell at 21.52 on 2020-01-15\n",
      "executed buy at 11.37 on 2020-04-15\n",
      "executed sell at 12.00 on 2020-04-29\n",
      "executed buy at 12.51 on 2020-06-11\n",
      "executed sell at 13.14 on 2020-07-06\n",
      "executed buy at 12.85 on 2020-07-20\n",
      "executed sell at 13.41 on 2020-07-22\n",
      "executed buy at 13.50 on 2020-07-30\n",
      "executed sell at 15.53 on 2020-08-04\n",
      "executed buy at 17.49 on 2020-08-21\n",
      "executed sell at 18.50 on 2020-08-24\n",
      "executed buy at 18.23 on 2020-08-31\n",
      "executed sell at 19.26 on 2020-09-17\n",
      "executed buy at 19.14 on 2020-10-16\n",
      "executed sell at 18.15 on 2020-10-26\n"
     ]
    },
    {
     "data": {
      "image/png": "[encoded data removed]",
      "text/plain": [
       "<Figure size 432x288 with 1 Axes>"
      ]
     },
     "metadata": {
      "needs_background": "light"
     },
     "output_type": "display_data"
    },
    {
     "data": {
      "text/plain": [
       "49"
      ]
     },
     "execution_count": 2,
     "metadata": {},
     "output_type": "execute_result"
    }
   ],
   "source": [
    "def trade_single(symbol,win_MA,win_dip,win_ral,show_steps,show_plot):\n",
    "    df = read_stock(symbol)\n",
    "    df = proc_stock(df,win_MA,win_dip,win_ral)\n",
    "    benchmark_gain,strategy_gain = paper_trade(df,1000000,5,show_steps,show_plot)\n",
    "    return strategy_gain\n",
    "\n",
    "trade_single('MOS',20,6,10,True,True)"
   ]
  },
  {
   "cell_type": "markdown",
   "metadata": {},
   "source": [
    "We will explore the following grid: $d=[2,10]\\times r=[2,10]$"
   ]
  },
  {
   "cell_type": "code",
   "execution_count": 3,
   "metadata": {},
   "outputs": [
    {
     "name": "stdout",
     "output_type": "stream",
     "text": [
      "grid search took 104.67998552322388 seconds\n"
     ]
    },
    {
     "data": {
      "text/html": [
       "<div>\n",
       "<style scoped>\n",
       "    .dataframe tbody tr th:only-of-type {\n",
       "        vertical-align: middle;\n",
       "    }\n",
       "\n",
       "    .dataframe tbody tr th {\n",
       "        vertical-align: top;\n",
       "    }\n",
       "\n",
       "    .dataframe thead th {\n",
       "        text-align: right;\n",
       "    }\n",
       "</style>\n",
       "<table border=\"1\" class=\"dataframe\">\n",
       "  <thead>\n",
       "    <tr style=\"text-align: right;\">\n",
       "      <th></th>\n",
       "      <th>d</th>\n",
       "      <th>r</th>\n",
       "      <th>Strategy Gain %</th>\n",
       "    </tr>\n",
       "  </thead>\n",
       "  <tbody>\n",
       "    <tr>\n",
       "      <th>0</th>\n",
       "      <td>2</td>\n",
       "      <td>2</td>\n",
       "      <td>8</td>\n",
       "    </tr>\n",
       "    <tr>\n",
       "      <th>1</th>\n",
       "      <td>2</td>\n",
       "      <td>3</td>\n",
       "      <td>1</td>\n",
       "    </tr>\n",
       "    <tr>\n",
       "      <th>2</th>\n",
       "      <td>2</td>\n",
       "      <td>4</td>\n",
       "      <td>13</td>\n",
       "    </tr>\n",
       "    <tr>\n",
       "      <th>3</th>\n",
       "      <td>2</td>\n",
       "      <td>5</td>\n",
       "      <td>25</td>\n",
       "    </tr>\n",
       "    <tr>\n",
       "      <th>4</th>\n",
       "      <td>2</td>\n",
       "      <td>6</td>\n",
       "      <td>18</td>\n",
       "    </tr>\n",
       "    <tr>\n",
       "      <th>...</th>\n",
       "      <td>...</td>\n",
       "      <td>...</td>\n",
       "      <td>...</td>\n",
       "    </tr>\n",
       "    <tr>\n",
       "      <th>76</th>\n",
       "      <td>10</td>\n",
       "      <td>6</td>\n",
       "      <td>2</td>\n",
       "    </tr>\n",
       "    <tr>\n",
       "      <th>77</th>\n",
       "      <td>10</td>\n",
       "      <td>7</td>\n",
       "      <td>2</td>\n",
       "    </tr>\n",
       "    <tr>\n",
       "      <th>78</th>\n",
       "      <td>10</td>\n",
       "      <td>8</td>\n",
       "      <td>2</td>\n",
       "    </tr>\n",
       "    <tr>\n",
       "      <th>79</th>\n",
       "      <td>10</td>\n",
       "      <td>9</td>\n",
       "      <td>3</td>\n",
       "    </tr>\n",
       "    <tr>\n",
       "      <th>80</th>\n",
       "      <td>10</td>\n",
       "      <td>10</td>\n",
       "      <td>3</td>\n",
       "    </tr>\n",
       "  </tbody>\n",
       "</table>\n",
       "<p>81 rows × 3 columns</p>\n",
       "</div>"
      ],
      "text/plain": [
       "     d   r  Strategy Gain %\n",
       "0    2   2                8\n",
       "1    2   3                1\n",
       "2    2   4               13\n",
       "3    2   5               25\n",
       "4    2   6               18\n",
       "..  ..  ..              ...\n",
       "76  10   6                2\n",
       "77  10   7                2\n",
       "78  10   8                2\n",
       "79  10   9                3\n",
       "80  10  10                3\n",
       "\n",
       "[81 rows x 3 columns]"
      ]
     },
     "execution_count": 3,
     "metadata": {},
     "output_type": "execute_result"
    }
   ],
   "source": [
    "d = range(2,11)\n",
    "r = range(2,11)\n",
    "grid = [[di,ri] for di in d for ri in r]\n",
    "df_grid = pd.DataFrame(grid,columns=['d','r'])\n",
    "df_grid\n",
    "\n",
    "symbol='MOS'\n",
    "win_MA = 20\n",
    "\n",
    "def trade_single_row(row):\n",
    "    return trade_single(symbol,win_MA,row['d'],row['r'],False,False)\n",
    "\n",
    "t_0 = time.time()\n",
    "df_grid['Strategy Gain %'] = df_grid.apply(trade_single_row,axis=1)\n",
    "t_f = time.time()\n",
    "print('grid search took',t_f-t_0,'seconds')\n",
    "df_grid.head(10)"
   ]
  },
  {
   "cell_type": "code",
   "execution_count": 4,
   "metadata": {
    "scrolled": false
   },
   "outputs": [
    {
     "data": {
      "text/html": [
       "<div>\n",
       "<style scoped>\n",
       "    .dataframe tbody tr th:only-of-type {\n",
       "        vertical-align: middle;\n",
       "    }\n",
       "\n",
       "    .dataframe tbody tr th {\n",
       "        vertical-align: top;\n",
       "    }\n",
       "\n",
       "    .dataframe thead th {\n",
       "        text-align: right;\n",
       "    }\n",
       "</style>\n",
       "<table border=\"1\" class=\"dataframe\">\n",
       "  <thead>\n",
       "    <tr style=\"text-align: right;\">\n",
       "      <th></th>\n",
       "      <th>d</th>\n",
       "      <th>r</th>\n",
       "      <th>Strategy Gain %</th>\n",
       "    </tr>\n",
       "  </thead>\n",
       "  <tbody>\n",
       "    <tr>\n",
       "      <th>44</th>\n",
       "      <td>6</td>\n",
       "      <td>10</td>\n",
       "      <td>49</td>\n",
       "    </tr>\n",
       "    <tr>\n",
       "      <th>35</th>\n",
       "      <td>5</td>\n",
       "      <td>10</td>\n",
       "      <td>44</td>\n",
       "    </tr>\n",
       "    <tr>\n",
       "      <th>43</th>\n",
       "      <td>6</td>\n",
       "      <td>9</td>\n",
       "      <td>44</td>\n",
       "    </tr>\n",
       "    <tr>\n",
       "      <th>42</th>\n",
       "      <td>6</td>\n",
       "      <td>8</td>\n",
       "      <td>43</td>\n",
       "    </tr>\n",
       "    <tr>\n",
       "      <th>40</th>\n",
       "      <td>6</td>\n",
       "      <td>6</td>\n",
       "      <td>40</td>\n",
       "    </tr>\n",
       "    <tr>\n",
       "      <th>41</th>\n",
       "      <td>6</td>\n",
       "      <td>7</td>\n",
       "      <td>40</td>\n",
       "    </tr>\n",
       "    <tr>\n",
       "      <th>34</th>\n",
       "      <td>5</td>\n",
       "      <td>9</td>\n",
       "      <td>39</td>\n",
       "    </tr>\n",
       "    <tr>\n",
       "      <th>33</th>\n",
       "      <td>5</td>\n",
       "      <td>8</td>\n",
       "      <td>38</td>\n",
       "    </tr>\n",
       "    <tr>\n",
       "      <th>53</th>\n",
       "      <td>7</td>\n",
       "      <td>10</td>\n",
       "      <td>37</td>\n",
       "    </tr>\n",
       "    <tr>\n",
       "      <th>39</th>\n",
       "      <td>6</td>\n",
       "      <td>5</td>\n",
       "      <td>37</td>\n",
       "    </tr>\n",
       "  </tbody>\n",
       "</table>\n",
       "</div>"
      ],
      "text/plain": [
       "    d   r  Strategy Gain %\n",
       "44  6  10               49\n",
       "35  5  10               44\n",
       "43  6   9               44\n",
       "42  6   8               43\n",
       "40  6   6               40\n",
       "41  6   7               40\n",
       "34  5   9               39\n",
       "33  5   8               38\n",
       "53  7  10               37\n",
       "39  6   5               37"
      ]
     },
     "execution_count": 4,
     "metadata": {},
     "output_type": "execute_result"
    }
   ],
   "source": [
    "df_grid.dropna(inplace=True)\n",
    "df_grid.sort_values(by=['Strategy Gain %'],ascending=False).head(10)"
   ]
  },
  {
   "cell_type": "markdown",
   "metadata": {},
   "source": [
    "It is also known that vectorization improves the performance of the code.  I am interested in confirming the performance improvement by vectorization.  In order to do so, I conduct the same computational task through embedded for loops."
   ]
  },
  {
   "cell_type": "code",
   "execution_count": 6,
   "metadata": {
    "scrolled": true
   },
   "outputs": [
    {
     "name": "stdout",
     "output_type": "stream",
     "text": [
      "grid search by embedded loops took 106.08906626701355 seconds\n"
     ]
    }
   ],
   "source": [
    "d = range(2,11)\n",
    "r = range(2,11)\n",
    "\n",
    "symbol='MOS'\n",
    "win_MA = 20\n",
    "\n",
    "res = []\n",
    "\n",
    "t_0 = time.time()\n",
    "for di in d:\n",
    "    for ri in r:\n",
    "        res.append(trade_single(symbol,win_MA,di,ri,False,False))\n",
    "t_f = time.time()\n",
    "print('grid search by embedded loops took',t_f-t_0,'seconds')"
   ]
  },
  {
   "cell_type": "markdown",
   "metadata": {},
   "source": [
    "The grid search produced $(d,r)=(6,10)$, which gives the maximaized strategy gain %.  Interestingly, the grid search by loop does not appear to be significantly slower than grid search implemented w/ vectorization.  I was also interested in applying this optimized strategy to a 'hypothetical' price trend that is in reverse-chronological order as the actual price trend.  That is to say the price goes backwards in time."
   ]
  },
  {
   "cell_type": "code",
   "execution_count": 7,
   "metadata": {},
   "outputs": [
    {
     "data": {
      "image/png": "[encoded data removed]",
      "text/plain": [
       "<Figure size 432x288 with 1 Axes>"
      ]
     },
     "metadata": {
      "needs_background": "light"
     },
     "output_type": "display_data"
    }
   ],
   "source": [
    "win_MA = 20\n",
    "win_dip = 6\n",
    "win_ral = 10\n",
    "symbol = 'MOS'\n",
    "df = read_stock(symbol)\n",
    "df = df.iloc[::-1]\n",
    "df = df.reset_index()\n",
    "df = df.drop(columns=['index'])\n",
    "df = proc_stock(df,win_MA,win_dip,win_ral)\n",
    "benchmark_gain,strategy_gain = paper_trade(df,1000000,5,False,True)"
   ]
  }
 ],
 "metadata": {
  "kernelspec": {
   "display_name": "Python 3",
   "language": "python",
   "name": "python3"
  },
  "language_info": {
   "codemirror_mode": {
    "name": "ipython",
    "version": 3
   },
   "file_extension": ".py",
   "mimetype": "text/x-python",
   "name": "python",
   "nbconvert_exporter": "python",
   "pygments_lexer": "ipython3",
   "version": "3.8.3"
  }
 },
 "nbformat": 4,
 "nbformat_minor": 4
}
