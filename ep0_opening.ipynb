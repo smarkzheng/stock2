{
 "cells": [
  {
   "cell_type": "markdown",
   "metadata": {},
   "source": [
    "# episode0 (abbreviated as ep0) opening\n",
    "\n",
    "This is the opening of a seires of Jupyter notebook epsidoes presenting my exploration of data analytics and machine learning with Python.  \n",
    "\n",
    "I focused on practicing the applications of three Python libraries: `pandas`, `sklearn`, and `matplotlib`.  Documentation of these libraries can be found [here](https://pandas.pydata.org/), [here](https://scikit-learn.org/stable/) and [here](https://matplotlib.org/index.html), respectively.  I tried to program in `pythonic` styles, e.g., one-liners, vectorization, minimized use of explicit `for` loops as much as I can.\n",
    "\n",
    "I applied utilifies in the three aforementioned libraries to research stocks and to explore profitable strategies for stock trading.  I would like to emphasize that the goal of these exercises presented in subsequent notebook episodes is not to discover a trading strategy that generates maximal profit while is to become proficient in using Python for data analytics applications along the journey of seeking such profit-generating strategies.\n",
    "\n",
    "As will be demonstrated in subsequent episodes, two sets of investigations were performed.  The first set of investigation were mainly performed based on day-to-day evolution of prices of stocks. A simple 'buy-dip-sell-rally' trading philosopy was tested on various stocks and strategy parameters were optimized for individual stocks constituting the S&P 500 index.  A bot that can execute buy and sell automatically based on pre-programed trading strategies and real-time signals from the market was also developed.\n",
    "\n",
    "*this is an ever-green working document...*\n",
    "\n",
    "*enter more details as they become available...*\n"
   ]
  }
 ],
 "metadata": {
  "kernelspec": {
   "display_name": "Python 3",
   "language": "python",
   "name": "python3"
  },
  "language_info": {
   "codemirror_mode": {
    "name": "ipython",
    "version": 3
   },
   "file_extension": ".py",
   "mimetype": "text/x-python",
   "name": "python",
   "nbconvert_exporter": "python",
   "pygments_lexer": "ipython3",
   "version": "3.8.3"
  }
 },
 "nbformat": 4,
 "nbformat_minor": 4
}
