{
 "cells": [
  {
   "cell_type": "markdown",
   "metadata": {},
   "source": [
    "# ep4-2 stock bot"
   ]
  },
  {
   "cell_type": "markdown",
   "metadata": {},
   "source": [
    "In this episode, we introduce a bot we developed to trade stocks based on parameterized buy dip-sell rally strategies and real-time buy and signals.  We first define two classes: `market` and `portfolio`.  We use `market` to simulate the opening and closing of the real market and we use `portfolio` to keep track of the stocks we own, the value of the stocks and the trades.  The code block below shows the implementation of the `market` class."
   ]
  },
  {
   "cell_type": "code",
   "execution_count": 1,
   "metadata": {},
   "outputs": [],
   "source": [
    "import datetime\n",
    "from my_stock import read_stock,proc_stock\n",
    "import pandas as pd\n",
    "import time\n",
    "import math\n",
    "\n",
    "class market:        \n",
    "    def __init__(self,silent=False):\n",
    "        self.status = 'unknown'\n",
    "        self.time = datetime.datetime.today()        \n",
    "        self.get_status(silent)\n",
    "        \n",
    "    def get_status(self,silent=True):\n",
    "        if silent == False:\n",
    "            print('query market status...')\n",
    "        self.time = datetime.datetime.today()\n",
    "        t_open = self.time.replace(hour=8,minute=30,second=0,microsecond=0)     #   the time of market open\n",
    "        t_close = self.time.replace(hour=15,minute=0,second=0,microsecond=0)       #   the time of market close\n",
    "        \n",
    "        date_today = str(self.time.year)+'-'+str(self.time.month)+'-'+str(self.time.day)        # convert the date in the format of datetime object to a string\n",
    "        df = read_stock('SPY')      #   query the SPY price from Yahoo finance in order to get the latest date registered in the price log\n",
    "        df_latest_date = df.iloc[-1]['Date']\n",
    "        \n",
    "        if silent == False:\n",
    "            print('SPY quote is ${:.2f}'.format(df.iloc[-1]['Close']),\n",
    "                  'last checked at:',\n",
    "                  '{}-{}-{},{}:{}'.format(self.time.year,self.time.month,self.time.day,self.time.hour,self.time.minute))\n",
    "        \n",
    "        if date_today == df_latest_date:            \n",
    "            if self.time >= t_open and self.time <= t_close:\n",
    "                self.status = 'open'\n",
    "            else:\n",
    "                self.status = 'closed'\n",
    "        else:            \n",
    "            self.status = 'closed'\n",
    "            \n",
    "        if silent == False:\n",
    "            print('market',self.status)\n",
    "        return self.status"
   ]
  },
  {
   "cell_type": "markdown",
   "metadata": {},
   "source": [
    "It is noted that a default input parameter `silent` was implemented in the `get_status` method of the class.  `get_status` checks the status of the market at a particular time.  The status of the market can be either `open` or `closed`. By default, the `True` value of the `silent` variable regulates that the `get_status` method does not print intermediate messages during the execution.  If a `True` value is given to the `silent` variable, as it is the case when the `market` class is initiated, the `get_status` method will print intermediate progresses."
   ]
  },
  {
   "cell_type": "markdown",
   "metadata": {},
   "source": [
    "The code block below shows the implementation of the `portfolio` class."
   ]
  },
  {
   "cell_type": "code",
   "execution_count": null,
   "metadata": {},
   "outputs": [],
   "source": [
    "class portfolio:\n",
    "    def __init__(self):\n",
    "        df_stocks = pd.read_csv('portfolio.csv')\n",
    "        df_stocks.set_index(['symbol'],inplace=True)\n",
    "        self.details = df_stocks\n",
    "        self.n_lines = len(self.details)\n",
    "        self.total_value = self.details['current value'].sum()\n",
    "        \n",
    "    def update(self):  # this method updates the information in the portfolio when it is called\n",
    "        self.n_lines = len(self.details)\n",
    "        for i in range(1,self.n_lines):\n",
    "            symbol = self.details.iloc[i].name\n",
    "            df = read_stock(symbol)\n",
    "            # the two lines below update the current prices of stocks in the portfolio\n",
    "            # and the corresponding total value of each individual stock\n",
    "            self.details.at[symbol,'current price'] = df.iloc[-1]['Close']\n",
    "            self.details.at[symbol,'current value'] = df.iloc[-1]['Close'] * self.details.loc[symbol]['number of shares']\n",
    "        self.total_value = self.details['current value'].sum()  # compute the total value of the portfolio\n",
    "        \n",
    "    def buy(self,symbol):\n",
    "        df = read_stock(symbol)\n",
    "        purchase_price = df.iloc[-1]['Close']\n",
    "        n_stock = math.floor(self.details.loc['_CASH']['current value']/purchase_price)\n",
    "        stock = pd.Series({'purchased on':df.iloc[-1]['Date'],\n",
    "                 'number of shares':n_stock,'averaged cost':purchase_price,\n",
    "                 'total cost':n_stock * purchase_price,\n",
    "                 'current price':purchase_price,'current value':n_stock * purchase_price})\n",
    "        stock.rename(symbol,inplace=True)        \n",
    "        print('executing following purchase:')\n",
    "        print(stock)\n",
    "        self.details.at['_CASH','current value'] -= n_stock * purchase_price\n",
    "        self.details = self.details.append(stock)\n",
    "        self.update()  # this update is quite important as the previous two lines only update the dataframe element in the portfolio\n",
    "        \n",
    "        return stock\n",
    "    \n",
    "    def sell(self,symbol):\n",
    "        df = read_stock(symbol)\n",
    "        sell_price = df.iloc[-1]['Close']\n",
    "        n_stock = self.details.loc[symbol]['number of shares']\n",
    "        \n",
    "        stock = pd.Series({'purchased on':self.details.loc[symbol]['purchased on'],\n",
    "                 'number of shares':n_stock,'averaged cost':self.details.loc[symbol]['averaged cost'],\n",
    "                 'total cost':self.details.loc[symbol]['total cost'],\n",
    "                 'current price':sell_price,'current value':n_stock * sell_price,\n",
    "                 '% gain': (n_stock * sell_price - self.details.loc[symbol]['total cost'])/\n",
    "                 self.details.loc[symbol]['total cost']*100})\n",
    "        stock.rename(symbol,inplace=True)\n",
    "        print('executing following sell:')\n",
    "        print(stock)\n",
    "        self.details.at['_CASH','current value'] += n_stock * sell_price\n",
    "        self.details.drop([symbol],inplace=True)\n",
    "        self.update()"
   ]
  },
  {
   "cell_type": "markdown",
   "metadata": {},
   "source": [
    "The following code block shows the implementation of two functions: `check_buy` and `check_sell`, which monitors the market in real-time and generate the buy and sell signals according to the parameterized buy dip-sell rally algorithms.  Note that `check_buy` and `check_sell` take rows of dataframes as input parameters.  When implemented in this manner, these two functions can later be repeated applied on rows of dataframes via the `.apply(function)` method."
   ]
  },
  {
   "cell_type": "code",
   "execution_count": 2,
   "metadata": {},
   "outputs": [],
   "source": [
    "def check_buy(row):\n",
    "    df = read_stock(row.name)\n",
    "    df = proc_stock(df,20,row['d'],row['r'])\n",
    "    if len(df) == 0:\n",
    "        return False\n",
    "    else:\n",
    "        return df.iloc[-1]['Buy']\n",
    "\n",
    "def check_sell(row,df_SP500):\n",
    "    df = read_stock(row.name)\n",
    "    d = df_SP500.loc[row.name]['d']\n",
    "    r = df_SP500.loc[row.name]['r']\n",
    "    df = proc_stock(df,20,d,r)\n",
    "    if len(df) == 0:\n",
    "        return False\n",
    "    else:\n",
    "        if (df.iloc[-1]['Close'] < 0.95 * row['averaged cost']) or df.iloc[-1]['Sell']:\n",
    "            return True\n",
    "        else:\n",
    "            return False"
   ]
  },
  {
   "cell_type": "markdown",
   "metadata": {},
   "source": [
    "It is noted that a sell signal is generated when the current stock price is on a rally, indicated by a `True` value of `df.iloc[-1]['Sell']` or when the stop-loss threshold of 5% has been reached, indicated by a `True` value of the `df.iloc[-1]['Close'] < 0.95 * row['averaged cost']` logic test."
   ]
  },
  {
   "cell_type": "markdown",
   "metadata": {},
   "source": [
    "The code block below show the implementation of the main program.  It is by design that this main program will be executed every day at 9 AM (CDT), which is 30 min. after market open."
   ]
  },
  {
   "cell_type": "code",
   "execution_count": 3,
   "metadata": {},
   "outputs": [
    {
     "name": "stdout",
     "output_type": "stream",
     "text": [
      "query market status...\n",
      "SPY quote is $362.23 last checked at: 2020-11-25,11:38\n",
      "market open\n",
      "trader bot starting up...\n"
     ]
    },
    {
     "ename": "NameError",
     "evalue": "name 'portfolio' is not defined",
     "output_type": "error",
     "traceback": [
      "\u001b[1;31m---------------------------------------------------------------------------\u001b[0m",
      "\u001b[1;31mNameError\u001b[0m                                 Traceback (most recent call last)",
      "\u001b[1;32m<ipython-input-3-67b6eb07809e>\u001b[0m in \u001b[0;36m<module>\u001b[1;34m\u001b[0m\n\u001b[0;32m      5\u001b[0m     \u001b[0mprint\u001b[0m\u001b[1;33m(\u001b[0m\u001b[1;34m'trader bot starting up...'\u001b[0m\u001b[1;33m)\u001b[0m\u001b[1;33m\u001b[0m\u001b[1;33m\u001b[0m\u001b[0m\n\u001b[0;32m      6\u001b[0m \u001b[1;33m\u001b[0m\u001b[0m\n\u001b[1;32m----> 7\u001b[1;33m     \u001b[0mportfolio\u001b[0m \u001b[1;33m=\u001b[0m \u001b[0mportfolio\u001b[0m\u001b[1;33m(\u001b[0m\u001b[1;33m)\u001b[0m     \u001b[1;31m#   open the portfolio\u001b[0m\u001b[1;33m\u001b[0m\u001b[1;33m\u001b[0m\u001b[0m\n\u001b[0m\u001b[0;32m      8\u001b[0m \u001b[1;33m\u001b[0m\u001b[0m\n\u001b[0;32m      9\u001b[0m     \u001b[1;32mwhile\u001b[0m \u001b[0mmarket\u001b[0m\u001b[1;33m.\u001b[0m\u001b[0mget_status\u001b[0m\u001b[1;33m(\u001b[0m\u001b[1;33m)\u001b[0m \u001b[1;32mand\u001b[0m \u001b[1;33m(\u001b[0m\u001b[0mportfolio\u001b[0m\u001b[1;33m.\u001b[0m\u001b[0mn_lines\u001b[0m \u001b[1;33m>\u001b[0m \u001b[1;36m1\u001b[0m\u001b[1;33m)\u001b[0m\u001b[1;33m:\u001b[0m  \u001b[1;31m# market is open and we own stocks in the portfolio\u001b[0m\u001b[1;33m\u001b[0m\u001b[1;33m\u001b[0m\u001b[0m\n",
      "\u001b[1;31mNameError\u001b[0m: name 'portfolio' is not defined"
     ]
    }
   ],
   "source": [
    "market = market()\n",
    "if market.status == 'closed':\n",
    "    print('trader bot shuting down...')\n",
    "else:\n",
    "    print('trader bot starting up...')\n",
    "    \n",
    "    portfolio = portfolio()     #   open the portfolio    \n",
    "    \n",
    "    while market.get_status() and (portfolio.n_lines > 1):  # market is open and we own stocks in the portfolio\n",
    "        # therefore, we need to monitor the market for sell signals\n",
    "        time.sleep(5*60)   #   frequency of checking the sell signal is set to 5 minutes\n",
    "        print('checking sell signal...')\n",
    "        df_SP500 = pd.read_csv('strategy_table.csv')\n",
    "        df_SP500.set_index(['Symbol'],inplace=True)\n",
    "        ls_cand = portfolio.details.iloc[1:].apply(check_sell,args=(df_SP500,),axis=1)\n",
    "        ls_cand = ls_cand[ls_cand==True]  # this list stores the stocks presenting sell signals        \n",
    "        if (len(ls_cand) == 0):\n",
    "            print('sell signal not detected')\n",
    "            portfolio.update()  # update the current value of the portfolio\n",
    "            print('portfolio value:{:.2f}'.format(portfolio.total_value))\n",
    "        else:\n",
    "            for cand in ls_cand.index:\n",
    "                portfolio.sell(cand)\n",
    "                \n",
    "    # the program exits the while loop above under two conditions: market is closed or the portfolio does not contain\n",
    "    # anymore stocks, under the second condition, we will wait until close to market close to scan the market for \n",
    "    # buy signals\n",
    "                \n",
    "    if market.get_status():\n",
    "        t_check_buy = datetime.datetime.today().replace(hour=15,minute=0,second=0,microsecond=0)\n",
    "        time.sleep((t_check_buy - datetime.datetime.today()).seconds)\n",
    "        print('start to check buy signal...')\n",
    "        df_SP500 = pd.read_csv('strategy_table.csv')\n",
    "        df_SP500.set_index(['Symbol'],inplace=True)\n",
    "        check_buy_start = time.time()\n",
    "        df_check_buy = df_SP500.apply(check_buy,axis=1)\n",
    "        check_buy_end = time.time()\n",
    "        print('checking buy signal took:',check_buy_end - check_buy_start,'seconds')\n",
    "        cand_name = df_SP500[df_check_buy].sort_values(by=['Signal Avg. Gain %'],ascending=False).iloc[0].name\n",
    "        cand_prospect = df_SP500.loc[cand_name]['Signal Avg. Gain %']\n",
    "        print('symbol:',cand_name,'prospect: {:.2f}%'.format(cand_prospect))\n",
    "        portfolio.buy(cand_name)\n",
    "        \n",
    "    portfolio.details.to_csv('portfolio_'+str(market.time.year)+'-'+\n",
    "                             str(market.time.month)+'-'+\n",
    "                             str(market.time.day)+'.csv')\n",
    "    portfolio.details.to_csv('portfolio.csv')  \n",
    "    # the two lines above saves the portfolio, two versions are saved, one named after today's date,\n",
    "    # which will serve as a log, a second named without today's date, which will serve as a running log and \n",
    "    # will be loaded on the next trading day.\n",
    "    print('trader bot shutting down...')"
   ]
  },
  {
   "cell_type": "markdown",
   "metadata": {},
   "source": [
    "It is noted that in the code block above, we implemented an apply method that uses a function with additional positional arguments, i.e., `.apply(check_sell,args=(df_SP500,),axis=1)`.  In general, the syntax for this type of implementation ois as follows: `pandas.DataFrame.apply(function,args=(x1,*))`.  In this implementation, we only need to enter one positional argument in addition to the original element of the series, on which the `.apply` method operates.  Therefore, the second attribute of the tuple was left blank."
   ]
  }
 ],
 "metadata": {
  "kernelspec": {
   "display_name": "Python 3",
   "language": "python",
   "name": "python3"
  },
  "language_info": {
   "codemirror_mode": {
    "name": "ipython",
    "version": 3
   },
   "file_extension": ".py",
   "mimetype": "text/x-python",
   "name": "python",
   "nbconvert_exporter": "python",
   "pygments_lexer": "ipython3",
   "version": "3.8.3"
  }
 },
 "nbformat": 4,
 "nbformat_minor": 4
}
